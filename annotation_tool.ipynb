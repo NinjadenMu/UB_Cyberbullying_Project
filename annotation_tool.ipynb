{
  "nbformat": 4,
  "nbformat_minor": 0,
  "metadata": {
    "colab": {
      "provenance": []
    },
    "kernelspec": {
      "name": "python3",
      "display_name": "Python 3"
    },
    "language_info": {
      "name": "python"
    }
  },
  "cells": [
    {
      "cell_type": "code",
      "execution_count": null,
      "metadata": {
        "id": "c8rzSvleQ8GB"
      },
      "outputs": [],
      "source": [
        "import os\n",
        "import pickle\n",
        "\n",
        "subfolder = 'cyberbullying'\n",
        "subset = pickle.load(open(f'{subfolder}_subset.pkl', 'rb'))"
      ]
    },
    {
      "cell_type": "code",
      "source": [
        "from google.colab import drive\n",
        "\n",
        "drive.mount('/content/drive')"
      ],
      "metadata": {
        "id": "-0FZn7VWbIo6"
      },
      "execution_count": null,
      "outputs": []
    },
    {
      "cell_type": "code",
      "source": [
        "!sudo apt-get install unzip\n",
        "!unzip /content/cyberbullying_data_clean.zip"
      ],
      "metadata": {
        "id": "W22dKOq9jc5v"
      },
      "execution_count": null,
      "outputs": []
    },
    {
      "cell_type": "code",
      "source": [
        "import matplotlib.pyplot as plt\n",
        "%matplotlib inline"
      ],
      "metadata": {
        "id": "dtsAe5j1b0qD"
      },
      "execution_count": null,
      "outputs": []
    },
    {
      "cell_type": "code",
      "source": [
        "from google.colab import output\n",
        "import time\n",
        "import pandas as pd\n",
        "import copy\n",
        "\n",
        "\n",
        "label = {'Image Path': '',\n",
        "         'Pose': '',\n",
        "         'Facial Emotion': '',\n",
        "         'Gesture': '',\n",
        "         'Object': '',\n",
        "         'Social': ''\n",
        "         }\n",
        "\n",
        "labels = []\n",
        "\n",
        "\n",
        "def annotate_image():\n",
        "  label['Pose'] = input('Is there a person facing the viewer frontally? yes/no. ')\n",
        "  label['Facial Emotion'] = input('If there is a person, what is their facial expression (joy, sadness, disgust, contempt, anger, surprise, neutral)?  If there is no person, answer \"no\".  ')\n",
        "  label['Gesture'] = input('If there is a person making a gesture, what is the gesture (finger gun, loser symbol, middle finger, thumbs down)?  If there is no person, answer \"no\".  ')\n",
        "  label['Object'] = input('If there is a threatening object in the image, what is it (gun, knife, noose)?  If there are no threatening objects, ansewr \"no\".')\n",
        "  label['Social'] = input('If the meaning of the image relevant to/affected by social context (racism, anti-lgbtq), what is the specific context?  If social context is not a factor, answer \"no\".')\n",
        "\n",
        "  print(label)\n",
        "  while True:\n",
        "    retry = input('Is the above label correct?  Type yes to continue, type no to reinput: ')\n",
        "    if retry == 'no':\n",
        "      annotate_image()\n",
        "      break\n",
        "\n",
        "    if retry == 'yes':\n",
        "      break\n",
        "\n",
        "  return label\n",
        "\n",
        "for image in subset:\n",
        "  img = plt.imread(f'/content/cyberbullying_data_clean/{subfolder}/{image}')\n",
        "  plt.imshow(img)\n",
        "  plt.axis('off')\n",
        "  plt.show()\n",
        "  time.sleep(0.1)\n",
        "  plt.close('all')\n",
        "\n",
        "  print('Your answer should only include lowercase letters.  Do not include quotation marks, dashes, or punctuation.')\n",
        "\n",
        "  label = copy.deepcopy(annotate_image())\n",
        "  label['Image Path'] = f'{subfolder}/{image}'\n",
        "  labels.append(label)\n",
        "\n",
        "\n",
        "  output.clear()"
      ],
      "metadata": {
        "id": "VZoyYG69e8Ok"
      },
      "execution_count": null,
      "outputs": []
    },
    {
      "cell_type": "code",
      "source": [
        "print(labels)"
      ],
      "metadata": {
        "id": "GEaVYIlteg5D"
      },
      "execution_count": null,
      "outputs": []
    },
    {
      "cell_type": "code",
      "source": [
        "df = pd.DataFrame(labels)\n",
        "labels.to_csv(f'/content/drive/MyDrive/{subfolder}_labels.csv')"
      ],
      "metadata": {
        "id": "jcZnxXqPytmi"
      },
      "execution_count": null,
      "outputs": []
    }
  ]
}