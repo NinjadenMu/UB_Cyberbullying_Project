{
  "nbformat": 4,
  "nbformat_minor": 0,
  "metadata": {
    "colab": {
      "provenance": []
    },
    "kernelspec": {
      "name": "python3",
      "display_name": "Python 3"
    },
    "language_info": {
      "name": "python"
    }
  },
  "cells": [
    {
      "cell_type": "code",
      "source": [
        "!pip install openai"
      ],
      "metadata": {
        "id": "N5LYS77E5EKx"
      },
      "execution_count": null,
      "outputs": []
    },
    {
      "cell_type": "code",
      "source": [
        "!sudo apt-get install unzip\n",
        "!unzip /content/cyberbullying_data_clean.zip"
      ],
      "metadata": {
        "id": "vg-SXfbhDkPj"
      },
      "execution_count": null,
      "outputs": []
    },
    {
      "cell_type": "code",
      "source": [
        "from google.colab import drive\n",
        "\n",
        "drive.mount('/content/drive')"
      ],
      "metadata": {
        "id": "xp43wifhD5DN"
      },
      "execution_count": null,
      "outputs": []
    },
    {
      "cell_type": "code",
      "source": [
        "import pandas as pd\n",
        "import os\n",
        "from tqdm import tqdm\n",
        "import random\n",
        "import pickle"
      ],
      "metadata": {
        "id": "oV-2VtLNEFho"
      },
      "execution_count": null,
      "outputs": []
    },
    {
      "cell_type": "markdown",
      "source": [
        "**CAREFUL WITH API KEY!**"
      ],
      "metadata": {
        "id": "x3aXhNIT0EC9"
      }
    },
    {
      "cell_type": "code",
      "execution_count": null,
      "metadata": {
        "id": "3WtpPDjF4-so"
      },
      "outputs": [],
      "source": [
        "import base64\n",
        "import requests\n",
        "\n",
        "# OpenAI API Key\n",
        "api_key = \"put your api key here\"\n",
        "\n",
        "headers = {\n",
        "  \"Content-Type\": \"application/json\",\n",
        "  \"Authorization\": f\"Bearer {api_key}\"\n",
        "}\n"
      ]
    },
    {
      "cell_type": "code",
      "source": [
        "def encode_image(image_path):\n",
        "  with open(image_path, \"rb\") as image_file:\n",
        "    return base64.b64encode(image_file.read()).decode('utf-8')\n",
        "\n",
        "\n",
        "def response_text_to_label(response_text):\n",
        "  if len(response_text) > 175:\n",
        "    return -1\n",
        "\n",
        "  if 'a.' in response_text:\n",
        "    return 1\n",
        "\n",
        "  if 'b.' in response_text:\n",
        "    return 0\n",
        "\n",
        "  return -1 #uncertain"
      ],
      "metadata": {
        "id": "n3-imi-wKiPH"
      },
      "execution_count": null,
      "outputs": []
    },
    {
      "cell_type": "markdown",
      "source": [
        "Set here whether to include definition in prompt"
      ],
      "metadata": {
        "id": "CewuHoUTVohY"
      }
    },
    {
      "cell_type": "code",
      "source": [
        "with_def = False #one shot, no definition"
      ],
      "metadata": {
        "id": "0n7C_i0AVoB3"
      },
      "execution_count": null,
      "outputs": []
    },
    {
      "cell_type": "code",
      "source": [
        "dataset_path = 'cyberbullying_data_clean'\n",
        "cyberbullying_path = dataset_path + '/cyberbullying'\n",
        "non_cyberbullying_path = dataset_path + '/non_cyberbullying'\n",
        "\n",
        "cyberbullying_images = os.listdir(cyberbullying_path)\n",
        "non_cyberbullying_images = os.listdir(non_cyberbullying_path)\n",
        "\n",
        "if not with_def:\n",
        "  prompt = 'Does the following image contain cyberbullying content?\\na. Yes\\nb. No'\n",
        "else:\n",
        "  prompt = 'Cyberbullying content is used to harass, threaten, embarrass, or target another person.  Does the following image contain cyberbullying content?\\na. Yes\\nb. No'\n",
        "\n"
      ],
      "metadata": {
        "id": "aRDepuytGLnw"
      },
      "execution_count": null,
      "outputs": []
    },
    {
      "cell_type": "code",
      "source": [
        "if input('Sure? Y/N ') == 'Y':\n",
        "\n",
        "  cyberbullying_subset = random.sample(cyberbullying_images, 100)\n",
        "  non_cyberbullying_subset = random.sample(non_cyberbullying_images, 100)\n",
        "\n",
        "  with open('cyberbullying_subset.pkl', 'wb') as f:\n",
        "    pickle.dump(cyberbullying_subset, f)\n",
        "\n",
        "  with open('non_cyberbullying_subset.pkl', 'wb') as f:\n",
        "    pickle.dump(non_cyberbullying_subset, f)"
      ],
      "metadata": {
        "id": "RVksKjnth171"
      },
      "execution_count": null,
      "outputs": []
    },
    {
      "cell_type": "code",
      "source": [
        "cyberbullying_images = pickle.load(open('cyberbullying_subset.pkl', 'rb'))\n",
        "non_cyberbullying_images = pickle.load(open('non_cyberbullying_subset.pkl', 'rb'))"
      ],
      "metadata": {
        "id": "fjsS-ULvjjGl"
      },
      "execution_count": null,
      "outputs": []
    },
    {
      "cell_type": "code",
      "source": [
        "def make_payload():\n",
        "  payload = {\n",
        "        \"model\": \"gpt-4-turbo\",\n",
        "        \"messages\": [\n",
        "          {\n",
        "            \"role\": \"user\",\n",
        "            \"content\": [\n",
        "\n",
        "            ]\n",
        "          }\n",
        "        ],\n",
        "        \"max_tokens\": 300\n",
        "      }\n",
        "\n",
        "  payload['messages'][0]['content'].append(\n",
        "        {\n",
        "            'type': 'text',\n",
        "            'text': prompt\n",
        "        }\n",
        "    )\n",
        "\n",
        "  return payload"
      ],
      "metadata": {
        "id": "0_UuylNolJjh"
      },
      "execution_count": null,
      "outputs": []
    },
    {
      "cell_type": "code",
      "source": [
        "payload = make_payload()"
      ],
      "metadata": {
        "id": "l6Cy_j79tu3Q"
      },
      "execution_count": null,
      "outputs": []
    },
    {
      "cell_type": "code",
      "source": [
        "d = {'path': [], 'true_label': [], 'prompt': [], 'response': [], 'label': []}\n",
        "df1 = pd.DataFrame(data=d)"
      ],
      "metadata": {
        "id": "oQucqCPeqeVR"
      },
      "execution_count": null,
      "outputs": []
    },
    {
      "cell_type": "code",
      "source": [
        "for image in tqdm(cyberbullying_images):\n",
        "  payload = make_payload()\n",
        "  try:\n",
        "    image_path = f'{cyberbullying_path}/{image}'\n",
        "    base64_image = encode_image(image_path)\n",
        "\n",
        "    payload['messages'][0]['content'].append(\n",
        "      {\n",
        "          'type': 'image_url',\n",
        "          \"image_url\": {\n",
        "            \"url\": f\"data:image/jpeg;base64,{base64_image}\",\n",
        "            'detail': 'low'\n",
        "            }\n",
        "      }\n",
        "    )\n",
        "\n",
        "    response = requests.post(\"https://api.openai.com/v1/chat/completions\", headers=headers, json=payload)\n",
        "\n",
        "    response_text = response.json()['choices'][0]['message']['content']\n",
        "    label = response_text_to_label(response_text)\n",
        "\n",
        "    new_row = pd.DataFrame(data = {'path': [image_path], 'true_label': [1], 'prompt': [prompt], 'response': [response_text], 'label': [label]})\n",
        "\n",
        "    df1 = pd.concat([df1, new_row], ignore_index=True)\n",
        "\n",
        "    payload['messages'][0]['content'].pop(-1)\n",
        "    #print(df1)\n",
        "\n",
        "  except:\n",
        "      print('Error: ')\n",
        "      print(image)"
      ],
      "metadata": {
        "id": "s6YOpjTTh0OV"
      },
      "execution_count": null,
      "outputs": []
    },
    {
      "cell_type": "code",
      "source": [
        "df1.to_csv('/content/drive/MyDrive/gp_cyberbullying.csv')"
      ],
      "metadata": {
        "id": "Ho8Ls9BARBRJ"
      },
      "execution_count": null,
      "outputs": []
    },
    {
      "cell_type": "code",
      "source": [
        "d = {'path': [], 'true_label': [], 'prompt': [], 'response': [], 'label': []}\n",
        "df = pd.DataFrame(data=d)"
      ],
      "metadata": {
        "id": "0HSbi2sDzfzA"
      },
      "execution_count": null,
      "outputs": []
    },
    {
      "cell_type": "code",
      "source": [
        "for image in tqdm(non_cyberbullying_images):\n",
        "  payload = make_payload()\n",
        "  try:\n",
        "    image_path = f'{non_cyberbullying_path}/{image}'\n",
        "    base64_image = encode_image(image_path)\n",
        "\n",
        "    payload['messages'][0]['content'].append(\n",
        "      {\n",
        "          'type': 'image_url',\n",
        "          \"image_url\": {\n",
        "            \"url\": f\"data:image/jpeg;base64,{base64_image}\",\n",
        "            'detail': 'low'\n",
        "            }\n",
        "      }\n",
        "    )\n",
        "\n",
        "    response = requests.post(\"https://api.openai.com/v1/chat/completions\", headers=headers, json=payload)\n",
        "\n",
        "    response_text = response.json()['choices'][0]['message']['content']\n",
        "    label = response_text_to_label(response_text)\n",
        "\n",
        "    new_row = pd.DataFrame(data = {'path': [image_path], 'true_label': [0], 'prompt': [prompt], 'response': [response_text], 'label': [label]})\n",
        "\n",
        "    df = pd.concat([df, new_row], ignore_index=True)\n",
        "\n",
        "    payload['messages'][0]['content'].pop(-1)\n",
        "    #print(df)\n",
        "\n",
        "  except:\n",
        "      print('Error: ')\n",
        "      print(image)"
      ],
      "metadata": {
        "id": "y3M0mD5gO8zc"
      },
      "execution_count": null,
      "outputs": []
    },
    {
      "cell_type": "code",
      "source": [
        "df.to_csv('/content/drive/MyDrive/gp_non_cyberbullying.csv')"
      ],
      "metadata": {
        "id": "WPabHttbbkyF"
      },
      "execution_count": null,
      "outputs": []
    },
    {
      "cell_type": "code",
      "source": [
        "df1 = pd.read_csv('/content/drive/MyDrive/gp_cyberbullying.csv')\n",
        "df = pd.read_csv('/content/drive/MyDrive/gp_non_cyberbullying.csv')"
      ],
      "metadata": {
        "id": "VklS561ftRL4"
      },
      "execution_count": null,
      "outputs": []
    },
    {
      "cell_type": "code",
      "source": [
        "cyberbullying_results = [result for result in list(df1.loc[:,\"label\"])]\n",
        "non_cyberbullying_results = [result for result in list(df.loc[:,\"label\"])]"
      ],
      "metadata": {
        "id": "ErnJ0hR3snSZ"
      },
      "execution_count": null,
      "outputs": []
    },
    {
      "cell_type": "code",
      "source": [
        "def get_stats(results, ground_truth):\n",
        "  tp = tn = fp = fn = 0\n",
        "  for result in results:\n",
        "    if result == -1:\n",
        "      result = 0\n",
        "    if result:\n",
        "      if ground_truth:\n",
        "        tp += 1\n",
        "      else:\n",
        "        fp += 1\n",
        "\n",
        "    else:\n",
        "      if ground_truth:\n",
        "        fn += 1\n",
        "\n",
        "      else:\n",
        "        tn += 1\n",
        "\n",
        "  return len(results), tp, tn, fp, fn"
      ],
      "metadata": {
        "id": "3oeQDTSguDxb"
      },
      "execution_count": null,
      "outputs": []
    },
    {
      "cell_type": "code",
      "source": [
        "a = get_stats(cyberbullying_results, 1)"
      ],
      "metadata": {
        "id": "avHZ0juxvZHX"
      },
      "execution_count": null,
      "outputs": []
    },
    {
      "cell_type": "code",
      "source": [
        "b = get_stats(non_cyberbullying_results, 0)"
      ],
      "metadata": {
        "id": "zS8x3aFHvb6L"
      },
      "execution_count": null,
      "outputs": []
    },
    {
      "cell_type": "code",
      "source": [
        "c = []\n",
        "for i in range(5):\n",
        "  c.append(a[i] + b[i])"
      ],
      "metadata": {
        "id": "PZcltrcXxN47"
      },
      "execution_count": null,
      "outputs": []
    },
    {
      "cell_type": "code",
      "source": [
        "a"
      ],
      "metadata": {
        "id": "C0CfIG6OyGJB"
      },
      "execution_count": null,
      "outputs": []
    },
    {
      "cell_type": "code",
      "source": [
        "b"
      ],
      "metadata": {
        "id": "29pMW6R2yG--"
      },
      "execution_count": null,
      "outputs": []
    },
    {
      "cell_type": "code",
      "source": [
        "tp = c[1]\n",
        "tn = c[2]\n",
        "fp = c[3]\n",
        "fn = c[4]\n",
        "\n",
        "\n",
        "precision = tp / (tp + fp)\n",
        "recall = tp / (tp + fn)\n",
        "accuracy = (tp + tn) / (c[0])"
      ],
      "metadata": {
        "id": "9KF5czf8xcGE"
      },
      "execution_count": null,
      "outputs": []
    },
    {
      "cell_type": "code",
      "source": [
        "if with_def:\n",
        "  print('With definition')\n",
        "  print(precision, recall, accuracy) #0.6666666666666666 0.02 0.505\n",
        "\n",
        "else:\n",
        "  print('No definition')\n",
        "  print(precision, recall, accuracy) #0.0 0.0 0.495"
      ],
      "metadata": {
        "id": "j8Teb7GmxlOn"
      },
      "execution_count": null,
      "outputs": []
    }
  ]
}